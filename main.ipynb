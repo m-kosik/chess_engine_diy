{
 "cells": [
  {
   "cell_type": "code",
   "execution_count": 1,
   "metadata": {},
   "outputs": [
    {
     "name": "stdout",
     "output_type": "stream",
     "text": [
      "Draws: 3948\n",
      "AlmostAlpha0 wins: 32\n",
      "BaseEngine wins: 20\n"
     ]
    }
   ],
   "source": [
    "import os\n",
    "import sys\n",
    "\n",
    "module_path = os.path.abspath(os.path.join('./engines/'))\n",
    "if module_path not in sys.path:\n",
    "    sys.path.append(module_path)\n",
    "\n",
    "from simulator import Simulator\n",
    "from engines.base_engine import Engine\n",
    "from engines.simple_engine import SimpleEngine\n",
    "\n",
    "e1 = SimpleEngine()\n",
    "e2 = Engine()\n",
    "\n",
    "\n",
    "s = Simulator(e1, e2)\n",
    "iterations_per_side = 2000\n",
    "\n",
    "results = s.match(iterations_per_side)\n",
    "\n",
    "e1_wins = sum([r[\"e1\"] == 1 for r in results])\n",
    "e2_wins = sum([r[\"e2\"] == 1 for r in results])\n",
    "draws = iterations_per_side * 2 - e1_wins - e2_wins\n",
    "\n",
    "print(f'Draws: {draws}')\n",
    "print(f'{repr(e1)} wins: {e1_wins}')\n",
    "print(f'{repr(e2)} wins: {e2_wins}')"
   ]
  }
 ],
 "metadata": {
  "kernelspec": {
   "display_name": "Python 3.8.10 64-bit",
   "language": "python",
   "name": "python3"
  },
  "language_info": {
   "codemirror_mode": {
    "name": "ipython",
    "version": 3
   },
   "file_extension": ".py",
   "mimetype": "text/x-python",
   "name": "python",
   "nbconvert_exporter": "python",
   "pygments_lexer": "ipython3",
   "version": "3.8.10"
  },
  "orig_nbformat": 4,
  "vscode": {
   "interpreter": {
    "hash": "916dbcbb3f70747c44a77c7bcd40155683ae19c65e1c03b4aa3499c5328201f1"
   }
  }
 },
 "nbformat": 4,
 "nbformat_minor": 2
}
